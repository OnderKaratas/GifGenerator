{
  "nbformat": 4,
  "nbformat_minor": 0,
  "metadata": {
    "colab": {
      "name": "ImageExperiment.ipynb",
      "provenance": [],
      "collapsed_sections": [],
      "authorship_tag": "ABX9TyM/aXBQ+z0AG5MgNTFFs1YG",
      "include_colab_link": true
    },
    "kernelspec": {
      "name": "python3",
      "display_name": "Python 3"
    },
    "language_info": {
      "name": "python"
    }
  },
  "cells": [
    {
      "cell_type": "markdown",
      "metadata": {
        "id": "view-in-github",
        "colab_type": "text"
      },
      "source": [
        "<a href=\"https://colab.research.google.com/github/OnderKaratas/GifGenerator/blob/main/GifExperiment.ipynb\" target=\"_parent\"><img src=\"https://colab.research.google.com/assets/colab-badge.svg\" alt=\"Open In Colab\"/></a>"
      ]
    },
    {
      "cell_type": "code",
      "execution_count": null,
      "metadata": {
        "id": "8vQlg4J7Q6xa"
      },
      "outputs": [],
      "source": [
        "from matplotlib import pyplot as plt\n",
        "import numpy as np\n",
        "from PIL import Image\n",
        "\n",
        "imgs=[]\n",
        "nimgs=[]\n",
        "\n",
        "def CreateImage(a, b, c, d):\n",
        "  img= Image.new(\"RGB\", (256,256), (0,0,0))\n",
        "  imgdata=list(img.getdata())\n",
        "  for i in range(a,len(imgdata),b):\n",
        "    imgdata[i]=list(imgdata[i])\n",
        "    for j in range(c,len(imgdata[i]),d):\n",
        "      imgdata[i][j]=imgdata[i][j]+(np.random.randint(0,255))\n",
        "    imgdata[i]=tuple(imgdata[i])\n",
        "  img.putdata(imgdata)\n",
        "  imgs.append(img)\n",
        "  \n",
        "\n",
        "for i in range(3):\n",
        "  for j in range(1,30,1):\n",
        "    for k in range(1,30,1):\n",
        "      CreateImage(i,j,np.random.randint(0,3),k)\n",
        "for i in range(2,len(imgs),3):\n",
        "  nimgs.append(Image.composite(imgs[i-2],imgs[i-1],imgs[i].convert(\"RGBA\")))\n",
        "\n",
        "\n",
        "gif = []\n",
        "for image in nimgs:\n",
        "    gif.append(image)\n",
        "gif[0].save('besty.gif', save_all=True,optimize=False, append_images=gif[1:], loop=0)\n"
      ]
    }
  ]
}